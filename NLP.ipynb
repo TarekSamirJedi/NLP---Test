{
 "cells": [
  {
   "cell_type": "code",
   "execution_count": 1,
   "metadata": {
    "collapsed": true,
    "deletable": true,
    "editable": true
   },
   "outputs": [],
   "source": [
    "import nltk"
   ]
  },
  {
   "cell_type": "code",
   "execution_count": 2,
   "metadata": {
    "collapsed": false,
    "deletable": true,
    "editable": true
   },
   "outputs": [
    {
     "name": "stdout",
     "output_type": "stream",
     "text": [
      "showing info https://raw.githubusercontent.com/nltk/nltk_data/gh-pages/index.xml\n"
     ]
    },
    {
     "data": {
      "text/plain": [
       "True"
      ]
     },
     "execution_count": 2,
     "metadata": {},
     "output_type": "execute_result"
    }
   ],
   "source": [
    "nltk.download()"
   ]
  },
  {
   "cell_type": "code",
   "execution_count": 5,
   "metadata": {
    "collapsed": true,
    "deletable": true,
    "editable": true
   },
   "outputs": [
    {
     "data": {
      "text/plain": [
       "['A',\n",
       " 'binary',\n",
       " 'search',\n",
       " 'algorithm',\n",
       " 'is',\n",
       " 'a',\n",
       " 'method',\n",
       " 'to',\n",
       " 'determine',\n",
       " 'the',\n",
       " 'position',\n",
       " 'of',\n",
       " 'a',\n",
       " 'target',\n",
       " 'value',\n",
       " 'within',\n",
       " 'a',\n",
       " 'sorted',\n",
       " 'array',\n",
       " '(an',\n",
       " 'ordered',\n",
       " 'list).',\n",
       " 'Binary',\n",
       " 'search',\n",
       " 'compares',\n",
       " 'the',\n",
       " 'target',\n",
       " 'value',\n",
       " 'to',\n",
       " 'the',\n",
       " 'middle',\n",
       " 'element',\n",
       " 'of',\n",
       " 'the',\n",
       " 'array.',\n",
       " 'If',\n",
       " 'they',\n",
       " 'are',\n",
       " 'not',\n",
       " 'equal,',\n",
       " 'the',\n",
       " 'half',\n",
       " 'in',\n",
       " 'which',\n",
       " 'the',\n",
       " 'target',\n",
       " 'cannot',\n",
       " 'lie',\n",
       " 'is',\n",
       " 'eliminated',\n",
       " 'and',\n",
       " 'the',\n",
       " 'search',\n",
       " 'continues',\n",
       " 'on',\n",
       " 'the',\n",
       " 'remaining',\n",
       " 'half,',\n",
       " 'again',\n",
       " 'taking',\n",
       " 'the',\n",
       " 'middle',\n",
       " 'element',\n",
       " 'to',\n",
       " 'compare',\n",
       " 'to',\n",
       " 'the',\n",
       " 'target',\n",
       " 'value,',\n",
       " 'and',\n",
       " 'so',\n",
       " 'on.',\n",
       " 'If',\n",
       " 'the',\n",
       " 'remaining',\n",
       " 'half',\n",
       " 'at',\n",
       " 'any',\n",
       " 'stage',\n",
       " 'is',\n",
       " 'found',\n",
       " 'to',\n",
       " 'be',\n",
       " 'empty,',\n",
       " 'then',\n",
       " 'the',\n",
       " 'target',\n",
       " 'is',\n",
       " 'not',\n",
       " 'in',\n",
       " 'the',\n",
       " 'array.',\n",
       " 'Even',\n",
       " 'though',\n",
       " 'the',\n",
       " 'idea',\n",
       " 'is',\n",
       " 'simple,',\n",
       " 'implementing',\n",
       " 'binary',\n",
       " 'search',\n",
       " 'correctly',\n",
       " 'requires',\n",
       " 'attention',\n",
       " 'to',\n",
       " 'some',\n",
       " 'subtleties',\n",
       " 'about',\n",
       " 'its',\n",
       " 'exit',\n",
       " 'conditions',\n",
       " 'and',\n",
       " 'midpoint',\n",
       " 'calculation.',\n",
       " 'Binary',\n",
       " 'search',\n",
       " 'runs',\n",
       " 'in',\n",
       " 'logarithmic',\n",
       " 'time',\n",
       " 'in',\n",
       " 'the',\n",
       " 'worst',\n",
       " 'case.',\n",
       " 'It',\n",
       " 'is',\n",
       " 'faster',\n",
       " 'than',\n",
       " 'linear',\n",
       " 'search',\n",
       " 'except',\n",
       " 'for',\n",
       " 'small',\n",
       " 'arrays,',\n",
       " 'but',\n",
       " 'the',\n",
       " 'array',\n",
       " 'must',\n",
       " 'be',\n",
       " 'sorted',\n",
       " 'first.',\n",
       " 'Although',\n",
       " 'specialized',\n",
       " 'data',\n",
       " 'structures',\n",
       " 'designed',\n",
       " 'for',\n",
       " 'fast',\n",
       " 'searching,',\n",
       " 'such',\n",
       " 'as',\n",
       " 'hash',\n",
       " 'tables,',\n",
       " 'can',\n",
       " 'be',\n",
       " 'searched',\n",
       " 'more',\n",
       " 'efficiently,',\n",
       " 'binary',\n",
       " 'search',\n",
       " 'applies',\n",
       " 'to',\n",
       " 'a',\n",
       " 'wider',\n",
       " 'range',\n",
       " 'of',\n",
       " 'problems.']"
      ]
     },
     "execution_count": 5,
     "metadata": {},
     "output_type": "execute_result"
    }
   ],
   "source": [
    "text = \"A binary search algorithm is a method to determine the position of a target value within a sorted array (an ordered list). Binary search compares the target value to the middle element of the array. If they are not equal, the half in which the target cannot lie is eliminated and the search continues on the remaining half, again taking the middle element to compare to the target value, and so on. If the remaining half at any stage is found to be empty, then the target is not in the array. Even though the idea is simple, implementing binary search correctly requires attention to some subtleties about its exit conditions and midpoint calculation. Binary search runs in logarithmic time in the worst case. It is faster than linear search except for small arrays, but the array must be sorted first. Although specialized data structures designed for fast searching, such as hash tables, can be searched more efficiently, binary search applies to a wider range of problems. \"\n",
    "text.split()"
   ]
  },
  {
   "cell_type": "code",
   "execution_count": 8,
   "metadata": {
    "collapsed": true,
    "deletable": true,
    "editable": true
   },
   "outputs": [],
   "source": [
    "tokens = nltk.word_tokenize(text)"
   ]
  },
  {
   "cell_type": "code",
   "execution_count": 7,
   "metadata": {
    "collapsed": false,
    "deletable": true,
    "editable": true
   },
   "outputs": [
    {
     "data": {
      "text/plain": [
       "['A binary search algorithm is a method to determine the position of a target value within a sorted array (an ordered list).',\n",
       " 'Binary search compares the target value to the middle element of the array.',\n",
       " 'If they are not equal, the half in which the target cannot lie is eliminated and the search continues on the remaining half, again taking the middle element to compare to the target value, and so on.',\n",
       " 'If the remaining half at any stage is found to be empty, then the target is not in the array.',\n",
       " 'Even though the idea is simple, implementing binary search correctly requires attention to some subtleties about its exit conditions and midpoint calculation.',\n",
       " 'Binary search runs in logarithmic time in the worst case.',\n",
       " 'It is faster than linear search except for small arrays, but the array must be sorted first.',\n",
       " 'Although specialized data structures designed for fast searching, such as hash tables, can be searched more efficiently, binary search applies to a wider range of problems.']"
      ]
     },
     "execution_count": 7,
     "metadata": {},
     "output_type": "execute_result"
    }
   ],
   "source": [
    "nltk.sent_tokenize(text)"
   ]
  },
  {
   "cell_type": "code",
   "execution_count": 9,
   "metadata": {
    "collapsed": true,
    "deletable": true,
    "editable": true
   },
   "outputs": [],
   "source": [
    "stop_words = [\"a\",\"A\",\"of\",'the','as','to','for','in','not','but','more']"
   ]
  },
  {
   "cell_type": "code",
   "execution_count": 10,
   "metadata": {
    "collapsed": true,
    "deletable": true,
    "editable": true
   },
   "outputs": [],
   "source": [
    "clean_tokens = []\n",
    "for word in tokens:\n",
    "    if word not in stop_words:\n",
    "        clean_tokens.append(word)"
   ]
  },
  {
   "cell_type": "code",
   "execution_count": 11,
   "metadata": {
    "collapsed": false,
    "deletable": true,
    "editable": true
   },
   "outputs": [
    {
     "data": {
      "text/plain": [
       "['binary',\n",
       " 'search',\n",
       " 'algorithm',\n",
       " 'is',\n",
       " 'method',\n",
       " 'determine',\n",
       " 'position',\n",
       " 'target',\n",
       " 'value',\n",
       " 'within',\n",
       " 'sorted',\n",
       " 'array',\n",
       " '(',\n",
       " 'an',\n",
       " 'ordered',\n",
       " 'list',\n",
       " ')',\n",
       " '.',\n",
       " 'Binary',\n",
       " 'search',\n",
       " 'compares',\n",
       " 'target',\n",
       " 'value',\n",
       " 'middle',\n",
       " 'element',\n",
       " 'array',\n",
       " '.',\n",
       " 'If',\n",
       " 'they',\n",
       " 'are',\n",
       " 'equal',\n",
       " ',',\n",
       " 'half',\n",
       " 'which',\n",
       " 'target',\n",
       " 'can',\n",
       " 'lie',\n",
       " 'is',\n",
       " 'eliminated',\n",
       " 'and',\n",
       " 'search',\n",
       " 'continues',\n",
       " 'on',\n",
       " 'remaining',\n",
       " 'half',\n",
       " ',',\n",
       " 'again',\n",
       " 'taking',\n",
       " 'middle',\n",
       " 'element',\n",
       " 'compare',\n",
       " 'target',\n",
       " 'value',\n",
       " ',',\n",
       " 'and',\n",
       " 'so',\n",
       " 'on',\n",
       " '.',\n",
       " 'If',\n",
       " 'remaining',\n",
       " 'half',\n",
       " 'at',\n",
       " 'any',\n",
       " 'stage',\n",
       " 'is',\n",
       " 'found',\n",
       " 'be',\n",
       " 'empty',\n",
       " ',',\n",
       " 'then',\n",
       " 'target',\n",
       " 'is',\n",
       " 'array',\n",
       " '.',\n",
       " 'Even',\n",
       " 'though',\n",
       " 'idea',\n",
       " 'is',\n",
       " 'simple',\n",
       " ',',\n",
       " 'implementing',\n",
       " 'binary',\n",
       " 'search',\n",
       " 'correctly',\n",
       " 'requires',\n",
       " 'attention',\n",
       " 'some',\n",
       " 'subtleties',\n",
       " 'about',\n",
       " 'its',\n",
       " 'exit',\n",
       " 'conditions',\n",
       " 'and',\n",
       " 'midpoint',\n",
       " 'calculation',\n",
       " '.',\n",
       " 'Binary',\n",
       " 'search',\n",
       " 'runs',\n",
       " 'logarithmic',\n",
       " 'time',\n",
       " 'worst',\n",
       " 'case',\n",
       " '.',\n",
       " 'It',\n",
       " 'is',\n",
       " 'faster',\n",
       " 'than',\n",
       " 'linear',\n",
       " 'search',\n",
       " 'except',\n",
       " 'small',\n",
       " 'arrays',\n",
       " ',',\n",
       " 'array',\n",
       " 'must',\n",
       " 'be',\n",
       " 'sorted',\n",
       " 'first',\n",
       " '.',\n",
       " 'Although',\n",
       " 'specialized',\n",
       " 'data',\n",
       " 'structures',\n",
       " 'designed',\n",
       " 'fast',\n",
       " 'searching',\n",
       " ',',\n",
       " 'such',\n",
       " 'hash',\n",
       " 'tables',\n",
       " ',',\n",
       " 'can',\n",
       " 'be',\n",
       " 'searched',\n",
       " 'efficiently',\n",
       " ',',\n",
       " 'binary',\n",
       " 'search',\n",
       " 'applies',\n",
       " 'wider',\n",
       " 'range',\n",
       " 'problems',\n",
       " '.']"
      ]
     },
     "execution_count": 11,
     "metadata": {},
     "output_type": "execute_result"
    }
   ],
   "source": [
    "clean_tokens"
   ]
  },
  {
   "cell_type": "code",
   "execution_count": 14,
   "metadata": {
    "collapsed": false,
    "deletable": true,
    "editable": true
   },
   "outputs": [
    {
     "data": {
      "text/plain": [
       "{'آه',\n",
       " 'آها',\n",
       " 'آي',\n",
       " 'أف',\n",
       " 'أقل',\n",
       " 'أكثر',\n",
       " 'ألا',\n",
       " 'أم',\n",
       " 'أما',\n",
       " 'أن',\n",
       " 'أنا',\n",
       " 'أنت',\n",
       " 'أنتم',\n",
       " 'أنتما',\n",
       " 'أنتن',\n",
       " 'أنى',\n",
       " 'أو',\n",
       " 'أولئك',\n",
       " 'أولاء',\n",
       " 'أوه',\n",
       " 'أي',\n",
       " 'أين',\n",
       " 'أينما',\n",
       " 'أيها',\n",
       " 'إذ',\n",
       " 'إذا',\n",
       " 'إذما',\n",
       " 'إذن',\n",
       " 'إلا',\n",
       " 'إلى',\n",
       " 'إليك',\n",
       " 'إليكم',\n",
       " 'إليكما',\n",
       " 'إليكن',\n",
       " 'إما',\n",
       " 'إن',\n",
       " 'إنا',\n",
       " 'إنما',\n",
       " 'إنه',\n",
       " 'إي',\n",
       " 'إيه',\n",
       " 'التي',\n",
       " 'الذي',\n",
       " 'الذين',\n",
       " 'اللائي',\n",
       " 'اللاتي',\n",
       " 'اللتان',\n",
       " 'اللتيا',\n",
       " 'اللتين',\n",
       " 'اللذان',\n",
       " 'اللذين',\n",
       " 'اللواتي',\n",
       " 'بخ',\n",
       " 'بس',\n",
       " 'بعد',\n",
       " 'بعض',\n",
       " 'بك',\n",
       " 'بكم',\n",
       " 'بكما',\n",
       " 'بكن',\n",
       " 'بل',\n",
       " 'بلى',\n",
       " 'بما',\n",
       " 'بماذا',\n",
       " 'بمن',\n",
       " 'بنا',\n",
       " 'به',\n",
       " 'بها',\n",
       " 'بهم',\n",
       " 'بهما',\n",
       " 'بهن',\n",
       " 'بي',\n",
       " 'بيد',\n",
       " 'بين',\n",
       " 'تلك',\n",
       " 'تلكم',\n",
       " 'تلكما',\n",
       " 'ته',\n",
       " 'تي',\n",
       " 'تين',\n",
       " 'تينك',\n",
       " 'ثم',\n",
       " 'ثمة',\n",
       " 'حاشا',\n",
       " 'حبذا',\n",
       " 'حتى',\n",
       " 'حيث',\n",
       " 'حيثما',\n",
       " 'حين',\n",
       " 'خلا',\n",
       " 'دون',\n",
       " 'ذا',\n",
       " 'ذات',\n",
       " 'ذاك',\n",
       " 'ذان',\n",
       " 'ذانك',\n",
       " 'ذلك',\n",
       " 'ذلكم',\n",
       " 'ذلكما',\n",
       " 'ذلكن',\n",
       " 'ذه',\n",
       " 'ذو',\n",
       " 'ذوا',\n",
       " 'ذواتا',\n",
       " 'ذواتي',\n",
       " 'ذي',\n",
       " 'ذين',\n",
       " 'ذينك',\n",
       " 'ريث',\n",
       " 'سوف',\n",
       " 'سوى',\n",
       " 'شتان',\n",
       " 'عدا',\n",
       " 'عسى',\n",
       " 'عل',\n",
       " 'على',\n",
       " 'عليك',\n",
       " 'عليه',\n",
       " 'عما',\n",
       " 'عن',\n",
       " 'عند',\n",
       " 'غير',\n",
       " 'فإذا',\n",
       " 'فإن',\n",
       " 'فلا',\n",
       " 'فمن',\n",
       " 'في',\n",
       " 'فيم',\n",
       " 'فيما',\n",
       " 'فيه',\n",
       " 'فيها',\n",
       " 'قد',\n",
       " 'كأن',\n",
       " 'كأنما',\n",
       " 'كأي',\n",
       " 'كأين',\n",
       " 'كذا',\n",
       " 'كذلك',\n",
       " 'كل',\n",
       " 'كلا',\n",
       " 'كلاهما',\n",
       " 'كلتا',\n",
       " 'كلما',\n",
       " 'كليكما',\n",
       " 'كليهما',\n",
       " 'كم',\n",
       " 'كما',\n",
       " 'كي',\n",
       " 'كيت',\n",
       " 'كيف',\n",
       " 'كيفما',\n",
       " 'لئن',\n",
       " 'لا',\n",
       " 'لاسيما',\n",
       " 'لدى',\n",
       " 'لست',\n",
       " 'لستم',\n",
       " 'لستما',\n",
       " 'لستن',\n",
       " 'لسن',\n",
       " 'لسنا',\n",
       " 'لعل',\n",
       " 'لك',\n",
       " 'لكم',\n",
       " 'لكما',\n",
       " 'لكن',\n",
       " 'لكنما',\n",
       " 'لكي',\n",
       " 'لكيلا',\n",
       " 'لم',\n",
       " 'لما',\n",
       " 'لن',\n",
       " 'لنا',\n",
       " 'له',\n",
       " 'لها',\n",
       " 'لهم',\n",
       " 'لهما',\n",
       " 'لهن',\n",
       " 'لو',\n",
       " 'لولا',\n",
       " 'لوما',\n",
       " 'لي',\n",
       " 'ليت',\n",
       " 'ليس',\n",
       " 'ليسا',\n",
       " 'ليست',\n",
       " 'ليستا',\n",
       " 'ليسوا',\n",
       " 'ما',\n",
       " 'ماذا',\n",
       " 'متى',\n",
       " 'مذ',\n",
       " 'مع',\n",
       " 'مما',\n",
       " 'ممن',\n",
       " 'من',\n",
       " 'منذ',\n",
       " 'منه',\n",
       " 'منها',\n",
       " 'مه',\n",
       " 'مهما',\n",
       " 'نحن',\n",
       " 'نحو',\n",
       " 'نعم',\n",
       " 'هؤلاء',\n",
       " 'ها',\n",
       " 'هاتان',\n",
       " 'هاته',\n",
       " 'هاتي',\n",
       " 'هاتين',\n",
       " 'هاك',\n",
       " 'هاهنا',\n",
       " 'هذا',\n",
       " 'هذان',\n",
       " 'هذه',\n",
       " 'هذي',\n",
       " 'هذين',\n",
       " 'هكذا',\n",
       " 'هل',\n",
       " 'هلا',\n",
       " 'هم',\n",
       " 'هما',\n",
       " 'هن',\n",
       " 'هنا',\n",
       " 'هناك',\n",
       " 'هنالك',\n",
       " 'هو',\n",
       " 'هي',\n",
       " 'هيا',\n",
       " 'هيت',\n",
       " 'هيهات',\n",
       " 'وإذ',\n",
       " 'وإذا',\n",
       " 'وإن',\n",
       " 'والذي',\n",
       " 'والذين',\n",
       " 'ولا',\n",
       " 'ولكن',\n",
       " 'ولو',\n",
       " 'وما',\n",
       " 'ومن',\n",
       " 'وهو',\n",
       " 'يا'}"
      ]
     },
     "execution_count": 14,
     "metadata": {},
     "output_type": "execute_result"
    }
   ],
   "source": [
    "from nltk.corpus import stopwords\n",
    "set(stopwords.words('arabic'))"
   ]
  },
  {
   "cell_type": "code",
   "execution_count": 15,
   "metadata": {
    "collapsed": false,
    "deletable": true,
    "editable": true
   },
   "outputs": [
    {
     "data": {
      "text/plain": [
       "'play playing plays'"
      ]
     },
     "execution_count": 15,
     "metadata": {},
     "output_type": "execute_result"
    }
   ],
   "source": [
    "\"play playing plays\""
   ]
  },
  {
   "cell_type": "code",
   "execution_count": 16,
   "metadata": {
    "collapsed": false,
    "deletable": true,
    "editable": true
   },
   "outputs": [
    {
     "data": {
      "text/plain": [
       "'play'"
      ]
     },
     "execution_count": 16,
     "metadata": {},
     "output_type": "execute_result"
    }
   ],
   "source": [
    "from nltk.stem import PorterStemmer\n",
    "ps = PorterStemmer()\n",
    "ps.stem(\"playing\")"
   ]
  },
  {
   "cell_type": "code",
   "execution_count": 17,
   "metadata": {
    "collapsed": false,
    "deletable": true,
    "editable": true
   },
   "outputs": [
    {
     "data": {
      "text/plain": [
       "'say'"
      ]
     },
     "execution_count": 17,
     "metadata": {},
     "output_type": "execute_result"
    }
   ],
   "source": [
    "ps.stem(\"saying\")"
   ]
  },
  {
   "cell_type": "code",
   "execution_count": 18,
   "metadata": {
    "collapsed": false,
    "deletable": true,
    "editable": true
   },
   "outputs": [
    {
     "data": {
      "text/plain": [
       "'visual'"
      ]
     },
     "execution_count": 18,
     "metadata": {},
     "output_type": "execute_result"
    }
   ],
   "source": [
    "ps.stem(\"visualization\")"
   ]
  },
  {
   "cell_type": "code",
   "execution_count": 21,
   "metadata": {
    "collapsed": false,
    "deletable": true,
    "editable": true
   },
   "outputs": [
    {
     "data": {
      "text/plain": [
       "'bed'"
      ]
     },
     "execution_count": 21,
     "metadata": {},
     "output_type": "execute_result"
    }
   ],
   "source": [
    "ps.stem(\"bed\")"
   ]
  },
  {
   "cell_type": "code",
   "execution_count": 22,
   "metadata": {
    "collapsed": false,
    "deletable": true,
    "editable": true
   },
   "outputs": [
    {
     "data": {
      "text/plain": [
       "'ring'"
      ]
     },
     "execution_count": 22,
     "metadata": {},
     "output_type": "execute_result"
    }
   ],
   "source": [
    "ps.stem(\"ring\")"
   ]
  },
  {
   "cell_type": "code",
   "execution_count": 23,
   "metadata": {
    "collapsed": false,
    "deletable": true,
    "editable": true
   },
   "outputs": [
    {
     "data": {
      "text/plain": [
       "'lie'"
      ]
     },
     "execution_count": 23,
     "metadata": {},
     "output_type": "execute_result"
    }
   ],
   "source": [
    "ps.stem(\"lying\")"
   ]
  },
  {
   "cell_type": "code",
   "execution_count": 24,
   "metadata": {
    "collapsed": false,
    "deletable": true,
    "editable": true
   },
   "outputs": [
    {
     "data": {
      "text/plain": [
       "'Playing'"
      ]
     },
     "execution_count": 24,
     "metadata": {},
     "output_type": "execute_result"
    }
   ],
   "source": [
    "from nltk.stem import WordNetLemmatizer\n",
    "wl = WordNetLemmatizer()\n",
    "wl.lemmatize(\"Playing\")"
   ]
  },
  {
   "cell_type": "code",
   "execution_count": 35,
   "metadata": {
    "collapsed": false,
    "deletable": true,
    "editable": true
   },
   "outputs": [
    {
     "data": {
      "text/plain": [
       "'went'"
      ]
     },
     "execution_count": 35,
     "metadata": {},
     "output_type": "execute_result"
    }
   ],
   "source": [
    "wl.lemmatize(\"went\")"
   ]
  },
  {
   "cell_type": "code",
   "execution_count": 36,
   "metadata": {
    "collapsed": false,
    "deletable": true,
    "editable": true
   },
   "outputs": [
    {
     "data": {
      "text/plain": [
       "'went'"
      ]
     },
     "execution_count": 36,
     "metadata": {},
     "output_type": "execute_result"
    }
   ],
   "source": [
    "ps.stem(\"went\")"
   ]
  },
  {
   "cell_type": "code",
   "execution_count": 37,
   "metadata": {
    "collapsed": true,
    "deletable": true,
    "editable": true
   },
   "outputs": [],
   "source": [
    "arabic_text = \"حقق يوسف إدريس تفردية مصرية في فنِّ القصة القصيرة في البناء وإتقان الشكل والتشكيل وأساليب الحكي، والسرد وتقنيات الكتابة القصصية النابعة من خصوصية المزاج ، فيعدُّ هو مؤسس فن القصة القصيرة ، مختلفًا بتجربته الكتابية عن الآخرين، فلم يدرس الكتابة بمنهج علمي كما درسهَا نجيب محفوظ، إنما كان طبيبًا هاويًا يمارس الصحافة ،وقد دخل بوابة الأدب من خلال نضاله السياسي وإيمانه بالثورة، منضمًا إلى صفوف اليسار الماركسي ، فلهذا التميز كانت قصصه تحمل هذا الطابع متمردًا على برجماتية وضيق أفق وواقعية العمل السياسي، فتمحورت كتاباته حول عذابات المغمورين في الريف والمدينة.\""
   ]
  },
  {
   "cell_type": "code",
   "execution_count": 38,
   "metadata": {
    "collapsed": true,
    "deletable": true,
    "editable": true
   },
   "outputs": [],
   "source": [
    "from nltk.stem import ISRIStemmer"
   ]
  },
  {
   "cell_type": "code",
   "execution_count": 39,
   "metadata": {
    "collapsed": false,
    "deletable": true,
    "editable": true
   },
   "outputs": [
    {
     "data": {
      "text/plain": [
       "'أساليب'"
      ]
     },
     "execution_count": 39,
     "metadata": {},
     "output_type": "execute_result"
    }
   ],
   "source": [
    "ir = ISRIStemmer()\n",
    "ir.stem(\"وأساليب\")"
   ]
  },
  {
   "cell_type": "code",
   "execution_count": 43,
   "metadata": {
    "collapsed": true,
    "deletable": true,
    "editable": true
   },
   "outputs": [
    {
     "data": {
      "text/plain": [
       "['حقق',\n",
       " 'يوسف',\n",
       " 'إدريس',\n",
       " 'تفردية',\n",
       " 'مصرية',\n",
       " 'في',\n",
       " 'فنِّ',\n",
       " 'القصة',\n",
       " 'القصيرة',\n",
       " 'في',\n",
       " 'البناء',\n",
       " 'وإتقان',\n",
       " 'الشكل',\n",
       " 'والتشكيل',\n",
       " 'وأساليب',\n",
       " 'الحكي،',\n",
       " 'والسرد',\n",
       " 'وتقنيات',\n",
       " 'الكتابة',\n",
       " 'القصصية',\n",
       " 'النابعة',\n",
       " 'من',\n",
       " 'خصوصية',\n",
       " 'المزاج',\n",
       " '،',\n",
       " 'فيعدُّ',\n",
       " 'هو',\n",
       " 'مؤسس',\n",
       " 'فن',\n",
       " 'القصة',\n",
       " 'القصيرة',\n",
       " '،',\n",
       " 'مختلفًا',\n",
       " 'بتجربته',\n",
       " 'الكتابية',\n",
       " 'عن',\n",
       " 'الآخرين،',\n",
       " 'فلم',\n",
       " 'يدرس',\n",
       " 'الكتابة',\n",
       " 'بمنهج',\n",
       " 'علمي',\n",
       " 'كما',\n",
       " 'درسهَا',\n",
       " 'نجيب',\n",
       " 'محفوظ،',\n",
       " 'إنما',\n",
       " 'كان',\n",
       " 'طبيبًا',\n",
       " 'هاويًا',\n",
       " 'يمارس',\n",
       " 'الصحافة',\n",
       " '،وقد',\n",
       " 'دخل',\n",
       " 'بوابة',\n",
       " 'الأدب',\n",
       " 'من',\n",
       " 'خلال',\n",
       " 'نضاله',\n",
       " 'السياسي',\n",
       " 'وإيمانه',\n",
       " 'بالثورة،',\n",
       " 'منضمًا',\n",
       " 'إلى',\n",
       " 'صفوف',\n",
       " 'اليسار',\n",
       " 'الماركسي',\n",
       " '،',\n",
       " 'فلهذا',\n",
       " 'التميز',\n",
       " 'كانت',\n",
       " 'قصصه',\n",
       " 'تحمل',\n",
       " 'هذا',\n",
       " 'الطابع',\n",
       " 'متمردًا',\n",
       " 'على',\n",
       " 'برجماتية',\n",
       " 'وضيق',\n",
       " 'أفق',\n",
       " 'وواقعية',\n",
       " 'العمل',\n",
       " 'السياسي،',\n",
       " 'فتمحورت',\n",
       " 'كتاباته',\n",
       " 'حول',\n",
       " 'عذابات',\n",
       " 'المغمورين',\n",
       " 'في',\n",
       " 'الريف',\n",
       " 'والمدينة',\n",
       " '.']"
      ]
     },
     "execution_count": 43,
     "metadata": {},
     "output_type": "execute_result"
    }
   ],
   "source": [
    "arabic_tokenizes = nltk.word_tokenize(arabic_text)\n",
    "arabic_tokenizes"
   ]
  },
  {
   "cell_type": "code",
   "execution_count": 44,
   "metadata": {
    "collapsed": true,
    "deletable": true,
    "editable": true
   },
   "outputs": [],
   "source": [
    "clean_text = []\n",
    "for word in arabic_tokenizes:\n",
    "    clean_text.append(ir.stem(word))"
   ]
  },
  {
   "cell_type": "code",
   "execution_count": 45,
   "metadata": {
    "collapsed": true,
    "deletable": true,
    "editable": true
   },
   "outputs": [
    {
     "data": {
      "text/plain": [
       "['حقق',\n",
       " 'وسف',\n",
       " 'درس',\n",
       " 'فرد',\n",
       " 'صرة',\n",
       " 'في',\n",
       " 'فن',\n",
       " 'قصة',\n",
       " 'قصر',\n",
       " 'في',\n",
       " 'بنء',\n",
       " 'إتق',\n",
       " 'شكل',\n",
       " 'شكل',\n",
       " 'أساليب',\n",
       " 'حك،',\n",
       " 'سرد',\n",
       " 'وتق',\n",
       " 'كتب',\n",
       " 'قصص',\n",
       " 'نبع',\n",
       " 'من',\n",
       " 'خصص',\n",
       " 'زاج',\n",
       " '،',\n",
       " 'يعد',\n",
       " 'هو',\n",
       " 'ؤسس',\n",
       " 'فن',\n",
       " 'قصة',\n",
       " 'قصر',\n",
       " '،',\n",
       " 'خلف',\n",
       " 'جرب',\n",
       " 'كتب',\n",
       " 'عن',\n",
       " 'خرين،',\n",
       " 'فلم',\n",
       " 'درس',\n",
       " 'كتب',\n",
       " 'نهج',\n",
       " 'علم',\n",
       " 'كما',\n",
       " 'درس',\n",
       " 'نجب',\n",
       " 'محفوظ،',\n",
       " 'انم',\n",
       " 'كان',\n",
       " 'طبب',\n",
       " 'هاو',\n",
       " 'ارس',\n",
       " 'صحف',\n",
       " '،وقد',\n",
       " 'دخل',\n",
       " 'بوب',\n",
       " 'ادب',\n",
       " 'من',\n",
       " 'خلل',\n",
       " 'نضل',\n",
       " 'سيس',\n",
       " 'وإم',\n",
       " 'ثورة،',\n",
       " 'منض',\n",
       " 'الى',\n",
       " 'صفف',\n",
       " 'يسر',\n",
       " 'اركس',\n",
       " '،',\n",
       " 'لهذ',\n",
       " 'تمز',\n",
       " 'كانت',\n",
       " 'قصص',\n",
       " 'حمل',\n",
       " 'هذا',\n",
       " 'طبع',\n",
       " 'تمرد',\n",
       " 'على',\n",
       " 'برجماتية',\n",
       " 'وضق',\n",
       " 'افق',\n",
       " 'وقع',\n",
       " 'عمل',\n",
       " 'اس،',\n",
       " 'حور',\n",
       " 'كتب',\n",
       " 'حول',\n",
       " 'عذب',\n",
       " 'غمر',\n",
       " 'في',\n",
       " 'ريف',\n",
       " 'دين',\n",
       " '.']"
      ]
     },
     "execution_count": 45,
     "metadata": {},
     "output_type": "execute_result"
    }
   ],
   "source": [
    "clean_text"
   ]
  },
  {
   "cell_type": "code",
   "execution_count": 50,
   "metadata": {
    "collapsed": false,
    "deletable": true,
    "editable": true
   },
   "outputs": [
    {
     "data": {
      "text/plain": [
       "[('this', 'DT'),\n",
       " ('is', 'VBZ'),\n",
       " ('my', 'PRP$'),\n",
       " ('friend', 'NN'),\n",
       " ('Ahmed', 'VBD')]"
      ]
     },
     "execution_count": 50,
     "metadata": {},
     "output_type": "execute_result"
    }
   ],
   "source": [
    "text = \"this is my friend Ahmed\".split()\n",
    "nltk.pos_tag(text)"
   ]
  },
  {
   "cell_type": "code",
   "execution_count": null,
   "metadata": {
    "collapsed": true,
    "deletable": true,
    "editable": true
   },
   "outputs": [],
   "source": []
  }
 ],
 "metadata": {
  "kernelspec": {
   "display_name": "Python 3",
   "language": "python",
   "name": "python3"
  },
  "language_info": {
   "codemirror_mode": {
    "name": "ipython",
    "version": 3
   },
   "file_extension": ".py",
   "mimetype": "text/x-python",
   "name": "python",
   "nbconvert_exporter": "python",
   "pygments_lexer": "ipython3",
   "version": "3.5.2"
  }
 },
 "nbformat": 4,
 "nbformat_minor": 2
}
